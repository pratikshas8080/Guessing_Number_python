{
  "nbformat": 4,
  "nbformat_minor": 0,
  "metadata": {
    "colab": {
      "name": "Number Guessing_py.ipynb",
      "provenance": [],
      "authorship_tag": "ABX9TyOICoL9YHh3uXX/nsgGa5j6",
      "include_colab_link": true
    },
    "kernelspec": {
      "name": "python3",
      "display_name": "Python 3"
    }
  },
  "cells": [
    {
      "cell_type": "markdown",
      "metadata": {
        "id": "view-in-github",
        "colab_type": "text"
      },
      "source": [
        "<a href=\"https://colab.research.google.com/github/pratikshas8080/Guessing_No_python/blob/main/Number_Guessing_py.ipynb\" target=\"_parent\"><img src=\"https://colab.research.google.com/assets/colab-badge.svg\" alt=\"Open In Colab\"/></a>"
      ]
    },
    {
      "cell_type": "code",
      "metadata": {
        "id": "gjOu2fAjbrnC",
        "outputId": "4bcbe124-fa55-4bfa-f545-53a00172e842",
        "colab": {
          "base_uri": "https://localhost:8080/",
          "height": 370
        }
      },
      "source": [
        "\"\"\" Number Guessing Game\n",
        "----------------------------------------\n",
        "\"\"\"\n",
        "import random\n",
        "attempts_list = []\n",
        "def show_score():\n",
        "    if len(attempts_list) <= 0:\n",
        "        print(\"There is currently no high score, it's yours for the taking!\")\n",
        "    else:\n",
        "        print(\"The current high score is {} attempts\".format(min(attempts_list)))\n",
        "def start_game():\n",
        "    random_number = int(random.randint(1, 10))\n",
        "    print(\"Hello traveler! Welcome to the game of guesses!\")\n",
        "    player_name = input(\"What is your name? \")\n",
        "    wanna_play = input(\"Hi, {}, would you like to play the guessing game? (Enter Yes/No) \".format(player_name))\n",
        "    attempts = 0\n",
        "    show_score()\n",
        "    while wanna_play.lower() == \"yes\":\n",
        "        try:\n",
        "            guess = input(\"Pick a number between 1 and 10 \")\n",
        "            if int(guess) < 1 or int(guess) > 10:\n",
        "                raise ValueError(\"Please guess a number within the given range\")\n",
        "            if int(guess) == random_number:\n",
        "                print(\"Nice! You got it!\")\n",
        "                attempts += 1\n",
        "                attempts_list.append(attempts)\n",
        "                print(\"It took you {} attempts\".format(attempts))\n",
        "                play_again = input(\"Would you like to play again? (Enter Yes/No) \")\n",
        "                attempts = 0\n",
        "                show_score()\n",
        "                random_number = int(random.randint(1, 10))\n",
        "                if play_again.lower() == \"no\":\n",
        "                    print(\"That's cool, have a good one!\")\n",
        "                    break\n",
        "            elif int(guess) > random_number:\n",
        "                print(\"It's lower\")\n",
        "                attempts += 1\n",
        "            elif int(guess) < random_number:\n",
        "                print(\"It's higher\")\n",
        "                attempts += 1\n",
        "        except ValueError as err:\n",
        "            print(\"Oh no!, that is not a valid value. Try again...\")\n",
        "            print(\"({})\".format(err))\n",
        "    else:\n",
        "        print(\"That's cool, have a good one!\")\n",
        "if __name__ == '__main__':\n",
        "    start_game()"
      ],
      "execution_count": null,
      "outputs": [
        {
          "output_type": "stream",
          "text": [
            "Hello traveler! Welcome to the game of guesses!\n",
            "What is your name? Pratiksha \n",
            "Hi, Pratiksha , would you like to play the guessing game? (Enter Yes/No) yes\n",
            "There is currently no high score, it's yours for the taking!\n",
            "Pick a number between 1 and 10 5\n",
            "It's higher\n",
            "Pick a number between 1 and 10 2\n",
            "It's higher\n",
            "Pick a number between 1 and 10 1\n",
            "It's higher\n",
            "Pick a number between 1 and 10 0\n",
            "Oh no!, that is not a valid value. Try again...\n",
            "(Please guess a number within the given range)\n",
            "Pick a number between 1 and 10 2\n",
            "It's higher\n",
            "Pick a number between 1 and 10 9\n",
            "Nice! You got it!\n",
            "It took you 5 attempts\n"
          ],
          "name": "stdout"
        }
      ]
    }
  ]
}